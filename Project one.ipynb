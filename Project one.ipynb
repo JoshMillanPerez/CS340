{
  "metadata": {
    "language_info": {
      "codemirror_mode": {
        "name": "python",
        "version": 3
      },
      "file_extension": ".py",
      "mimetype": "text/x-python",
      "name": "python",
      "nbconvert_exporter": "python",
      "pygments_lexer": "ipython3",
      "version": "3.8"
    },
    "kernelspec": {
      "name": "python",
      "display_name": "Python (Pyodide)",
      "language": "python"
    }
  },
  "nbformat_minor": 4,
  "nbformat": 4,
  "cells": [
    {
      "cell_type": "code",
      "source": "from pymongo import MongoClient\nfrom bson.objectid import ObjectId\n\nclass AnimalShelter(object):\n    \"\"\" CRUD operations for Animal collection in MongoDB \"\"\"\n\n    def __init__(self):\n        # Initializing the MongoClient. This helps to \n        # access the MongoDB databases and collections. \n        self.client = MongoClient('mongodb://%s:%s@localhost:64657' % (username, password))\n        self.database = self.client['project']\n\n    # Method to implement the CREATE function\n    def create(self, data):\n        if data is not None:\n            self.database.animals.insert(data)  # data should be dictionary \n            print('Successfully created')\n            return true\n        else:\n            raise Exception(\"Nothing to save, because data parameter is empty\")\n            return False\n    \n    # Method to implement the READ function\n    def read(self, data):\n        if data is not None:\n            print('self.database.animals.find(data)') # data will be in dictionary dictionary\n            return true\n        else:\n            print ('No result. Data parameter is empty.')\n            return False\n        \n    # Method to implement the DELETE function\n    def delete(self, keyValue):\n        if keyValue is not None:\n            self.database.animals.remove(keyValue) # data will be in dictionary dictionary\n            return true\n        else:\n            print ('Failed. Data parameter is empty.')\n            return False\n    \n    # Method to implement the UPDATE function\n    def update(self, keyValue, updateValue):\n        if updateValue is not None:\n            self.database.animals.update(keyValue, updateValue) # data will be in dictionary dictionary\n            return true\n        else:\n            print ('Failed. Data parameter is empty.')\n            return False\n    \n    # Test the CREATE function\n    if animalShelter.create(testCreateFunc):\n        print('Test passed for CREATE functionality.')\n        print('%s added successfully' %animal_id)\n        print('')\n    else:\n        print ('Failed CREATE function.')\n        print('')\n        \n    # Test READ functionality\n    animal = animalShelter.read({\"animal_id\":animal_id})\n    if animal:\n        print('Test passed for READ functionality.')\n        print('')\n    else:\n        print ('Failed READ function.')\n        print('')\n        \n    \n    # Test UPDATE functionality\n    keyValue = json.loads('{\"name\":\"Ivory\"}')\n    updateValue = json.loads('{\"$set\":{\"age_upon_outcome\": \"1 year\"}}')\n    \n    if animalShelter.update(keyValue, updateValue):\n        print('Test passed for UPDATE functionality.')\n        print('%s update successfully' %animal_id)\n        print('')\n    else:\n        print ('Failed UPDATE function.')\n        print('')  \n        \n    # Test DELETE functionality\n    if animalShelter.delete(keyValue)\n        print('Test passed for DELETE functionality.')\n        print('%s removed successfully' %animal_id)\n        print('')\n    else:\n        print ('Failed DELETE function.')\n        print('')  \n        ",
      "metadata": {},
      "execution_count": null,
      "outputs": []
    }
  ]
}